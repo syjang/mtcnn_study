{
 "cells": [
  {
   "cell_type": "code",
   "execution_count": 1,
   "metadata": {},
   "outputs": [],
   "source": [
    "import model\n",
    "import mtcnn\n",
    "import utils\n",
    "import numpy as np\n",
    "import cv2"
   ]
  },
  {
   "cell_type": "code",
   "execution_count": 34,
   "metadata": {},
   "outputs": [
    {
     "name": "stdout",
     "output_type": "stream",
     "text": [
      "(1, 267, 512, 3)\n"
     ]
    }
   ],
   "source": [
    "net = model.make_pnet(train=False)\n",
    "img = cv2.imread('dataset/wider_images/0--Parade/0_Parade_marchingband_1_6.jpg')\n",
    "scale = 0.5\n",
    "\n",
    "resized = utils.scale_image(img, scale)\n",
    "normalized = utils.normalize_image(resized)\n",
    "net_input = normalized\n",
    "net_input = np.expand_dims(normalized, 0)\n",
    "\n",
    "print(net_input.shape)\n"
   ]
  },
  {
   "cell_type": "code",
   "execution_count": 35,
   "metadata": {},
   "outputs": [],
   "source": [
    "cls, bbox, landmakr = net.predict(net_input)"
   ]
  },
  {
   "cell_type": "code",
   "execution_count": 51,
   "metadata": {},
   "outputs": [
    {
     "data": {
      "text/plain": [
       "array([[0.37722087, 0.37541407, 0.37562284, ..., 0.35636523, 0.33344695,\n",
       "        0.37675577],\n",
       "       [0.37340954, 0.37428665, 0.3730755 , ..., 0.35041884, 0.33951092,\n",
       "        0.36629537],\n",
       "       [0.37201688, 0.37169608, 0.37225392, ..., 0.34189808, 0.36186036,\n",
       "        0.34037453],\n",
       "       ...,\n",
       "       [0.36242217, 0.3577722 , 0.35668296, ..., 0.3464132 , 0.3519179 ,\n",
       "        0.3457081 ],\n",
       "       [0.3684362 , 0.35904548, 0.35930258, ..., 0.35162523, 0.36140028,\n",
       "        0.36094174],\n",
       "       [0.3716805 , 0.3657671 , 0.3803548 , ..., 0.36513993, 0.3667113 ,\n",
       "        0.3589797 ]], dtype=float32)"
      ]
     },
     "execution_count": 51,
     "metadata": {},
     "output_type": "execute_result"
    }
   ],
   "source": [
    "cls[0][:,:,1]"
   ]
  },
  {
   "cell_type": "code",
   "execution_count": 33,
   "metadata": {},
   "outputs": [
    {
     "data": {
      "text/plain": [
       "(128, 251, 3)"
      ]
     },
     "execution_count": 33,
     "metadata": {},
     "output_type": "execute_result"
    }
   ],
   "source": [
    "cls.shape"
   ]
  },
  {
   "cell_type": "code",
   "execution_count": 29,
   "metadata": {},
   "outputs": [
    {
     "data": {
      "text/plain": [
       "0.27007514"
      ]
     },
     "execution_count": 29,
     "metadata": {},
     "output_type": "execute_result"
    }
   ],
   "source": [
    "cls[0][0][1]"
   ]
  },
  {
   "cell_type": "code",
   "execution_count": null,
   "metadata": {},
   "outputs": [],
   "source": []
  }
 ],
 "metadata": {
  "kernelspec": {
   "display_name": "Python 3",
   "language": "python",
   "name": "python3"
  },
  "language_info": {
   "codemirror_mode": {
    "name": "ipython",
    "version": 3
   },
   "file_extension": ".py",
   "mimetype": "text/x-python",
   "name": "python",
   "nbconvert_exporter": "python",
   "pygments_lexer": "ipython3",
   "version": "3.6.10"
  }
 },
 "nbformat": 4,
 "nbformat_minor": 2
}
